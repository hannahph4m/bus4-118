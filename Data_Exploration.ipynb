{
  "nbformat": 4,
  "nbformat_minor": 0,
  "metadata": {
    "colab": {
      "provenance": [],
      "authorship_tag": "ABX9TyNqxIat6Q7KE3h2TEJzxJ49",
      "include_colab_link": true
    },
    "kernelspec": {
      "name": "python3",
      "display_name": "Python 3"
    },
    "language_info": {
      "name": "python"
    }
  },
  "cells": [
    {
      "cell_type": "markdown",
      "metadata": {
        "id": "view-in-github",
        "colab_type": "text"
      },
      "source": [
        "<a href=\"https://colab.research.google.com/github/hannahph4m/bus4-118/blob/main/Data_Exploration.ipynb\" target=\"_parent\"><img src=\"https://colab.research.google.com/assets/colab-badge.svg\" alt=\"Open In Colab\"/></a>"
      ]
    },
    {
      "cell_type": "code",
      "execution_count": null,
      "metadata": {
        "colab": {
          "base_uri": "https://localhost:8080/"
        },
        "id": "feaF97kojlXI",
        "outputId": "c0aa7773-c933-4331-b691-9b6c26a6b290"
      },
      "outputs": [
        {
          "output_type": "stream",
          "name": "stdout",
          "text": [
            " CSV Data Loaded:\n",
            "      Name  Age  Score\n",
            "0    Alice   23     85\n",
            "1      Bob   27     90\n",
            "2  Charlie   22     78\n",
            "3    Diana   25     88\n",
            "4    Ethan   24     92\n",
            "\n",
            " Excel Data Loaded:\n",
            "      Name  Age  Score\n",
            "0    Alice   23     85\n",
            "1      Bob   27     90\n",
            "2  Charlie   22     78\n",
            "3    Diana   25     88\n",
            "4    Ethan   24     92\n",
            "\n",
            " First 5 Rows:\n",
            "      Name  Age  Score\n",
            "0    Alice   23     85\n",
            "1      Bob   27     90\n",
            "2  Charlie   22     78\n",
            "3    Diana   25     88\n",
            "4    Ethan   24     92\n",
            "\n",
            " Last 5 Rows:\n",
            "      Name  Age  Score\n",
            "0    Alice   23     85\n",
            "1      Bob   27     90\n",
            "2  Charlie   22     78\n",
            "3    Diana   25     88\n",
            "4    Ethan   24     92\n",
            "\n",
            " Info:\n",
            "<class 'pandas.core.frame.DataFrame'>\n",
            "RangeIndex: 5 entries, 0 to 4\n",
            "Data columns (total 3 columns):\n",
            " #   Column  Non-Null Count  Dtype \n",
            "---  ------  --------------  ----- \n",
            " 0   Name    5 non-null      object\n",
            " 1   Age     5 non-null      int64 \n",
            " 2   Score   5 non-null      int64 \n",
            "dtypes: int64(2), object(1)\n",
            "memory usage: 252.0+ bytes\n",
            "\n",
            " Summary Statistics:\n",
            "             Age      Score\n",
            "count   5.000000   5.000000\n",
            "mean   24.200000  86.600000\n",
            "std     1.923538   5.458938\n",
            "min    22.000000  78.000000\n",
            "25%    23.000000  85.000000\n",
            "50%    24.000000  88.000000\n",
            "75%    25.000000  90.000000\n",
            "max    27.000000  92.000000\n"
          ]
        }
      ],
      "source": [
        "import pandas as pd\n",
        "from sqlalchemy import create_engine  # Only for database example\n",
        "\n",
        "# ---- 1. Load data from CSV ----\n",
        "csv_data = pd.read_csv('panda_sample_data.csv')\n",
        "print(\" CSV Data Loaded:\")\n",
        "print(csv_data.head())\n",
        "\n",
        "# ---- 2. Load data from Excel ----\n",
        "excel_data = pd.read_excel('panda_sample_data.xlsx', engine='openpyxl')\n",
        "print(\"\\n Excel Data Loaded:\")\n",
        "print(excel_data.head())\n",
        "\n",
        "# ---- 3. Load data from a SQL database (Optional demo) ----\n",
        "# Example using SQLite for demonstration\n",
        "# Create a connection (replace with your DB URI)\n",
        "# engine = create_engine('sqlite:///example.db')  # Assumes example.db exists\n",
        "# sql_data = pd.read_sql('SELECT * FROM your_table', engine)\n",
        "# print(\"\\n SQL Data Loaded:\")\n",
        "# print(sql_data.head())\n",
        "\n",
        "# ---- Basic Data Exploration ----\n",
        "print(\"\\n First 5 Rows:\")\n",
        "print(csv_data.head())\n",
        "\n",
        "print(\"\\n Last 5 Rows:\")\n",
        "print(csv_data.tail())\n",
        "\n",
        "print(\"\\n Info:\")\n",
        "csv_data.info()\n",
        "\n",
        "print(\"\\n Summary Statistics:\")\n",
        "print(csv_data.describe())"
      ]
    }
  ]
}