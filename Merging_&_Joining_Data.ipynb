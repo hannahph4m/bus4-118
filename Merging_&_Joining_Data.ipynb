{
  "nbformat": 4,
  "nbformat_minor": 0,
  "metadata": {
    "colab": {
      "provenance": [],
      "authorship_tag": "ABX9TyOZN91DhiHdYozKM0hB5MSX",
      "include_colab_link": true
    },
    "kernelspec": {
      "name": "python3",
      "display_name": "Python 3"
    },
    "language_info": {
      "name": "python"
    }
  },
  "cells": [
    {
      "cell_type": "markdown",
      "metadata": {
        "id": "view-in-github",
        "colab_type": "text"
      },
      "source": [
        "<a href=\"https://colab.research.google.com/github/hannahph4m/bus4-118/blob/main/Merging_%26_Joining_Data.ipynb\" target=\"_parent\"><img src=\"https://colab.research.google.com/assets/colab-badge.svg\" alt=\"Open In Colab\"/></a>"
      ]
    },
    {
      "cell_type": "code",
      "execution_count": 1,
      "metadata": {
        "id": "C3HoHkq5HUDh",
        "outputId": "638e4111-7f80-4f9c-c2e4-1c9e4f789e95",
        "colab": {
          "base_uri": "https://localhost:8080/"
        }
      },
      "outputs": [
        {
          "output_type": "stream",
          "name": "stdout",
          "text": [
            " Employees DataFrame:\n",
            "   EmployeeID     Name  DepartmentID\n",
            "0           1    Alice           101\n",
            "1           2      Bob           102\n",
            "2           3  Charlie           101\n",
            "3           4    Diana           103\n",
            "\n",
            " Departments DataFrame:\n",
            "   DepartmentID DepartmentName\n",
            "0           101          Sales\n",
            "1           102             HR\n",
            "2           104             IT\n",
            "\n",
            " INNER JOIN (only matching rows):\n",
            "   EmployeeID     Name  DepartmentID DepartmentName\n",
            "0           1    Alice           101          Sales\n",
            "1           2      Bob           102             HR\n",
            "2           3  Charlie           101          Sales\n",
            "\n",
            " LEFT JOIN (all employees, with department info if available):\n",
            "   EmployeeID     Name  DepartmentID DepartmentName\n",
            "0           1    Alice           101          Sales\n",
            "1           2      Bob           102             HR\n",
            "2           3  Charlie           101          Sales\n",
            "3           4    Diana           103            NaN\n",
            "\n",
            " RIGHT JOIN (all departments, with employee info if available):\n",
            "   EmployeeID     Name  DepartmentID DepartmentName\n",
            "0         1.0    Alice           101          Sales\n",
            "1         3.0  Charlie           101          Sales\n",
            "2         2.0      Bob           102             HR\n",
            "3         NaN      NaN           104             IT\n",
            "\n",
            " OUTER JOIN (all rows from both, matched when possible):\n",
            "   EmployeeID     Name  DepartmentID DepartmentName\n",
            "0         1.0    Alice           101          Sales\n",
            "1         3.0  Charlie           101          Sales\n",
            "2         2.0      Bob           102             HR\n",
            "3         4.0    Diana           103            NaN\n",
            "4         NaN      NaN           104             IT\n"
          ]
        }
      ],
      "source": [
        "import pandas as pd\n",
        "\n",
        "# ---- Sample DataFrames ----\n",
        "\n",
        "# First DataFrame: Employees\n",
        "df_employees = pd.DataFrame({\n",
        "    'EmployeeID': [1, 2, 3, 4],\n",
        "    'Name': ['Alice', 'Bob', 'Charlie', 'Diana'],\n",
        "    'DepartmentID': [101, 102, 101, 103]\n",
        "})\n",
        "\n",
        "# Second DataFrame: Departments\n",
        "df_departments = pd.DataFrame({\n",
        "    'DepartmentID': [101, 102, 104],\n",
        "    'DepartmentName': ['Sales', 'HR', 'IT']\n",
        "})\n",
        "\n",
        "print(\" Employees DataFrame:\")\n",
        "print(df_employees)\n",
        "\n",
        "print(\"\\n Departments DataFrame:\")\n",
        "print(df_departments)\n",
        "\n",
        "# ---- 1. INNER JOIN (default) ----\n",
        "inner_join = pd.merge(df_employees, df_departments, on='DepartmentID', how='inner')\n",
        "print(\"\\n INNER JOIN (only matching rows):\")\n",
        "print(inner_join)\n",
        "\n",
        "# ---- 2. LEFT JOIN ----\n",
        "left_join = pd.merge(df_employees, df_departments, on='DepartmentID', how='left')\n",
        "print(\"\\n LEFT JOIN (all employees, with department info if available):\")\n",
        "print(left_join)\n",
        "\n",
        "# ---- 3. RIGHT JOIN ----\n",
        "right_join = pd.merge(df_employees, df_departments, on='DepartmentID', how='right')\n",
        "print(\"\\n RIGHT JOIN (all departments, with employee info if available):\")\n",
        "print(right_join)\n",
        "\n",
        "# ---- 4. OUTER JOIN ----\n",
        "outer_join = pd.merge(df_employees, df_departments, on='DepartmentID', how='outer')\n",
        "print(\"\\n OUTER JOIN (all rows from both, matched when possible):\")\n",
        "print(outer_join)"
      ]
    }
  ]
}