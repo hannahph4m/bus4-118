{
  "nbformat": 4,
  "nbformat_minor": 0,
  "metadata": {
    "colab": {
      "provenance": [],
      "authorship_tag": "ABX9TyPZ3AADVKngA5fCtqUSk8al",
      "include_colab_link": true
    },
    "kernelspec": {
      "name": "python3",
      "display_name": "Python 3"
    },
    "language_info": {
      "name": "python"
    }
  },
  "cells": [
    {
      "cell_type": "markdown",
      "metadata": {
        "id": "view-in-github",
        "colab_type": "text"
      },
      "source": [
        "<a href=\"https://colab.research.google.com/github/hannahph4m/bus4-118/blob/main/Data_Aggregation.ipynb\" target=\"_parent\"><img src=\"https://colab.research.google.com/assets/colab-badge.svg\" alt=\"Open In Colab\"/></a>"
      ]
    },
    {
      "cell_type": "code",
      "execution_count": 1,
      "metadata": {
        "id": "Clb6dMZGHDHe",
        "outputId": "cdbb10a1-7d0c-4487-a084-af2c53b31ae2",
        "colab": {
          "base_uri": "https://localhost:8080/"
        }
      },
      "outputs": [
        {
          "output_type": "stream",
          "name": "stdout",
          "text": [
            " Original Data:\n",
            "  Department Employee  Salary  Bonus\n",
            "0      Sales    Alice   60000   5000\n",
            "1      Sales      Bob   65000   6000\n",
            "2         HR  Charlie   58000   4000\n",
            "3         HR    Diana   62000   4500\n",
            "4         IT    Ethan   70000   5500\n",
            "5         IT    Fiona   72000   6000\n",
            "6         IT   George   71000   5800\n",
            "\n",
            " Average Salary and Bonus by Department:\n",
            "             Salary        Bonus\n",
            "Department                      \n",
            "HR          60000.0  4250.000000\n",
            "IT          71000.0  5766.666667\n",
            "Sales       62500.0  5500.000000\n",
            "\n",
            " Grouped with Multiple Aggregations:\n",
            "             Salary         Bonus\n",
            "               mean    max    sum\n",
            "Department                       \n",
            "HR          60000.0  62000   8500\n",
            "IT          71000.0  72000  17300\n",
            "Sales       62500.0  65000  11000\n",
            "\n",
            " Pivot Table - Average Salary by Department:\n",
            "             Salary\n",
            "Department         \n",
            "HR          60000.0\n",
            "IT          71000.0\n",
            "Sales       62500.0\n",
            "\n",
            " Pivot Table - Total Salary and Bonus by Department:\n",
            "            Bonus  Salary\n",
            "Department               \n",
            "HR           8500  120000\n",
            "IT          17300  213000\n",
            "Sales       11000  125000\n"
          ]
        }
      ],
      "source": [
        "import pandas as pd\n",
        "\n",
        "# Sample dataset\n",
        "data = {\n",
        "    'Department': ['Sales', 'Sales', 'HR', 'HR', 'IT', 'IT', 'IT'],\n",
        "    'Employee': ['Alice', 'Bob', 'Charlie', 'Diana', 'Ethan', 'Fiona', 'George'],\n",
        "    'Salary': [60000, 65000, 58000, 62000, 70000, 72000, 71000],\n",
        "    'Bonus': [5000, 6000, 4000, 4500, 5500, 6000, 5800]\n",
        "}\n",
        "\n",
        "df = pd.DataFrame(data)\n",
        "\n",
        "print(\" Original Data:\")\n",
        "print(df)\n",
        "\n",
        "# ---- 1. Grouping and Aggregation ----\n",
        "\n",
        "# Group by Department and calculate mean Salary and Bonus\n",
        "grouped = df.groupby('Department')[['Salary', 'Bonus']].mean()\n",
        "\n",
        "print(\"\\n Average Salary and Bonus by Department:\")\n",
        "print(grouped)\n",
        "\n",
        "# You can also use multiple aggregation functions\n",
        "grouped_multi = df.groupby('Department').agg({\n",
        "    'Salary': ['mean', 'max'],\n",
        "    'Bonus': 'sum'\n",
        "})\n",
        "\n",
        "print(\"\\n Grouped with Multiple Aggregations:\")\n",
        "print(grouped_multi)\n",
        "\n",
        "# ---- 2. Pivot Tables ----\n",
        "\n",
        "# Create a pivot table to show average Salary by Department\n",
        "pivot = pd.pivot_table(df, values='Salary', index='Department', aggfunc='mean')\n",
        "\n",
        "print(\"\\n Pivot Table - Average Salary by Department:\")\n",
        "print(pivot)\n",
        "\n",
        "# Pivot Table with multiple values and aggregation\n",
        "pivot_multi = pd.pivot_table(df, values=['Salary', 'Bonus'], index='Department', aggfunc='sum')\n",
        "\n",
        "print(\"\\n Pivot Table - Total Salary and Bonus by Department:\")\n",
        "print(pivot_multi)"
      ]
    }
  ]
}