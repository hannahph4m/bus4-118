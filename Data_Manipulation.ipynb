{
  "nbformat": 4,
  "nbformat_minor": 0,
  "metadata": {
    "colab": {
      "provenance": [],
      "authorship_tag": "ABX9TyMBIFKnUeReuK0rVZXOjkEb",
      "include_colab_link": true
    },
    "kernelspec": {
      "name": "python3",
      "display_name": "Python 3"
    },
    "language_info": {
      "name": "python"
    }
  },
  "cells": [
    {
      "cell_type": "markdown",
      "metadata": {
        "id": "view-in-github",
        "colab_type": "text"
      },
      "source": [
        "<a href=\"https://colab.research.google.com/github/hannahph4m/bus4-118/blob/main/Data_Manipulation.ipynb\" target=\"_parent\"><img src=\"https://colab.research.google.com/assets/colab-badge.svg\" alt=\"Open In Colab\"/></a>"
      ]
    },
    {
      "cell_type": "code",
      "execution_count": 1,
      "metadata": {
        "colab": {
          "base_uri": "https://localhost:8080/"
        },
        "id": "D845nmqPGbOE",
        "outputId": "5db07edb-ab6c-4248-ef91-42874624e5b2"
      },
      "outputs": [
        {
          "output_type": "stream",
          "name": "stdout",
          "text": [
            " Raw Data:\n",
            "      Name   Age Score         City\n",
            "0    Alice  23.0    85     New York\n",
            "1      Bob   NaN    90  Los Angeles\n",
            "2  Charlie  22.0  None         None\n",
            "3     None  25.0    88      Chicago\n",
            "4    Ethan  24.0    92      Houston\n",
            "\n",
            " Dropped Rows with Any Missing Values:\n",
            "    Name   Age Score      City\n",
            "0  Alice  23.0    85  New York\n",
            "4  Ethan  24.0    92   Houston\n",
            "\n",
            " Filled Missing Values:\n",
            "      Name   Age Score         City\n",
            "0    Alice  23.0    85     New York\n",
            "1      Bob  23.5    90  Los Angeles\n",
            "2  Charlie  22.0     0      Unknown\n",
            "3  Unknown  25.0    88      Chicago\n",
            "4    Ethan  24.0    92      Houston\n",
            "\n",
            " After Converting 'Score' to Integer:\n",
            "Name      object\n",
            "Age      float64\n",
            "Score      int64\n",
            "City      object\n",
            "dtype: object\n",
            "\n",
            " Filtered Rows (Age > 23):\n",
            "      Name   Age  Score         City\n",
            "1      Bob  23.5     90  Los Angeles\n",
            "3  Unknown  25.0     88      Chicago\n",
            "4    Ethan  24.0     92      Houston\n",
            "\n",
            " Transformed Data:\n",
            "      Name   Age  Score         City   City_Upper  Performance\n",
            "0    Alice  23.0     85     New York     NEW YORK       1955.0\n",
            "1      Bob  23.5     90  Los Angeles  LOS ANGELES       2115.0\n",
            "2  Charlie  22.0      0      Unknown      UNKNOWN          0.0\n",
            "3  Unknown  25.0     88      Chicago      CHICAGO       2200.0\n",
            "4    Ethan  24.0     92      Houston      HOUSTON       2208.0\n"
          ]
        }
      ],
      "source": [
        "import pandas as pd\n",
        "import numpy as np\n",
        "\n",
        "# Sample raw dataset\n",
        "data = {\n",
        "    'Name': ['Alice', 'Bob', 'Charlie', None, 'Ethan'],\n",
        "    'Age': [23, np.nan, 22, 25, 24],\n",
        "    'Score': ['85', '90', None, '88', '92'],\n",
        "    'City': ['New York', 'Los Angeles', None, 'Chicago', 'Houston']\n",
        "}\n",
        "\n",
        "df = pd.DataFrame(data)\n",
        "\n",
        "print(\" Raw Data:\")\n",
        "print(df)\n",
        "\n",
        "# ---- 1. Handling Missing Values ----\n",
        "\n",
        "# Drop rows with any missing values\n",
        "df_dropped = df.dropna()\n",
        "print(\"\\n Dropped Rows with Any Missing Values:\")\n",
        "print(df_dropped)\n",
        "\n",
        "# Fill missing values with a default value\n",
        "df_filled = df.fillna({'Name': 'Unknown', 'Age': df['Age'].mean(), 'Score': '0', 'City': 'Unknown'})\n",
        "print(\"\\n Filled Missing Values:\")\n",
        "print(df_filled)\n",
        "\n",
        "# ---- 2. Data Type Conversion ----\n",
        "\n",
        "# Convert 'Score' column from string to integer\n",
        "df_filled['Score'] = df_filled['Score'].astype(int)\n",
        "\n",
        "print(\"\\n After Converting 'Score' to Integer:\")\n",
        "print(df_filled.dtypes)\n",
        "\n",
        "# ---- 3. Data Filtering ----\n",
        "\n",
        "# Filter rows where Age is greater than 23\n",
        "filtered_df = df_filled[df_filled['Age'] > 23]\n",
        "print(\"\\n Filtered Rows (Age > 23):\")\n",
        "print(filtered_df)\n",
        "\n",
        "# ---- 4. Data Transformation ----\n",
        "\n",
        "# Add a new column with upper-case city names\n",
        "df_filled['City_Upper'] = df_filled['City'].str.upper()\n",
        "\n",
        "# Add a calculated column: Age * Score\n",
        "df_filled['Performance'] = df_filled['Age'] * df_filled['Score']\n",
        "\n",
        "print(\"\\n Transformed Data:\")\n",
        "print(df_filled)"
      ]
    }
  ]
}